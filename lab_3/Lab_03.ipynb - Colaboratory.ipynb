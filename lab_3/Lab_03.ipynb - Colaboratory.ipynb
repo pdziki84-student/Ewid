{
  "nbformat": 4,
  "nbformat_minor": 0,
  "metadata": {
    "colab": {
      "name": "Lab_04.ipynb",
      "provenance": [],
      "collapsed_sections": []
    },
    "kernelspec": {
      "name": "python3",
      "display_name": "Python 3"
    },
    "language_info": {
      "name": "python"
    }
  },
  "cells": [
    {
      "cell_type": "code",
      "metadata": {
        "colab": {
          "base_uri": "https://localhost:8080/"
        },
        "id": "1GL_vQjJSQFw",
        "outputId": "2612979b-f821-4971-cc1c-1ad09ec12d68"
      },
      "source": [
        "!pip install pyspark==3.0.1 py4j==0.10.9"
      ],
      "execution_count": 3,
      "outputs": [
        {
          "output_type": "stream",
          "name": "stdout",
          "text": [
            "Collecting pyspark==3.0.1\n",
            "  Downloading pyspark-3.0.1.tar.gz (204.2 MB)\n",
            "\u001b[K     |████████████████████████████████| 204.2 MB 39 kB/s \n",
            "\u001b[?25hCollecting py4j==0.10.9\n",
            "  Downloading py4j-0.10.9-py2.py3-none-any.whl (198 kB)\n",
            "\u001b[K     |████████████████████████████████| 198 kB 78.2 MB/s \n",
            "\u001b[?25hBuilding wheels for collected packages: pyspark\n",
            "  Building wheel for pyspark (setup.py) ... \u001b[?25l\u001b[?25hdone\n",
            "  Created wheel for pyspark: filename=pyspark-3.0.1-py2.py3-none-any.whl size=204612246 sha256=1adf151b3b0639cf5753efc8ca7c4f2ea9095532222f10187970584e44cea097\n",
            "  Stored in directory: /root/.cache/pip/wheels/5e/34/fa/b37b5cef503fc5148b478b2495043ba61b079120b7ff379f9b\n",
            "Successfully built pyspark\n",
            "Installing collected packages: py4j, pyspark\n",
            "Successfully installed py4j-0.10.9 pyspark-3.0.1\n"
          ]
        }
      ]
    },
    {
      "cell_type": "code",
      "metadata": {
        "id": "jZ5rZmNvT_qg"
      },
      "source": [
        "from pyspark.sql import SparkSession\n",
        "\n",
        "spark = SparkSession\\\n",
        "        .builder\\\n",
        "        .master(\"local[4]\")\\\n",
        "        .appName('lab_4')\\\n",
        "        .getOrCreate()"
      ],
      "execution_count": 4,
      "outputs": []
    },
    {
      "cell_type": "code",
      "metadata": {
        "colab": {
          "base_uri": "https://localhost:8080/"
        },
        "id": "OLgVSbYpZrq7",
        "outputId": "79b4f07f-7cd1-476e-b027-c6c6d5ac61fa"
      },
      "source": [
        "csv_file = r\"/content/IHME_GDP_1960_2050_Y2021M09D22.CSV\"\n",
        "data = spark.read.csv(csv_file, header=True)\n",
        "\n",
        "data.show(5)"
      ],
      "execution_count": 7,
      "outputs": [
        {
          "output_type": "stream",
          "name": "stdout",
          "text": [
            "+-----------+-------------+----+------+----+----------------+----------------+----------------+----------------+----------------+----------------+\n",
            "|location_id|location_name|iso3| level|year|    gdp_ppp_mean|   gdp_ppp_lower|   gdp_ppp_upper|    gdp_usd_mean|   gdp_usd_lower|   gdp_usd_upper|\n",
            "+-----------+-------------+----+------+----+----------------+----------------+----------------+----------------+----------------+----------------+\n",
            "|          1|       Global|   G|Global|1960|17483449774122.9|16019146112388.8|19115862416823.5|12968625317543.8|12668903338177.2|13341765801289.3|\n",
            "|          1|       Global|   G|Global|1961|18135370554950.5|16595371585758.2|19824927264221.5|13460972883451.6|13147665079303.8|13830213685062.9|\n",
            "|          1|       Global|   G|Global|1962|18953278607513.5|17390391432341.6|20614772322197.6|14065757980933.9|13760596066680.6|  14437458446538|\n",
            "|          1|       Global|   G|Global|1963|19656620517295.9|18117057797516.5|21349934484879.7|14618310920876.4|14321321298044.4|14976927145314.4|\n",
            "|          1|       Global|   G|Global|1964|21005747228643.4|19356640986099.7|22767910934166.1|15529862054649.2|15234981973069.6|15879980043956.9|\n",
            "+-----------+-------------+----+------+----+----------------+----------------+----------------+----------------+----------------+----------------+\n",
            "only showing top 5 rows\n",
            "\n"
          ]
        }
      ]
    },
    {
      "cell_type": "code",
      "metadata": {
        "colab": {
          "base_uri": "https://localhost:8080/"
        },
        "id": "mUAMb193AXyz",
        "outputId": "fe1547b9-92da-4193-ccd6-06988a6fc35d"
      },
      "source": [
        "data = spark.read.csv('/content/IHME_GDP_1960_2050_Y2021M09D22.CSV'\n",
        ", sep=',', header=True)\n",
        "data.printSchema()\n"
      ],
      "execution_count": 9,
      "outputs": [
        {
          "output_type": "stream",
          "name": "stdout",
          "text": [
            "root\n",
            " |-- location_id: string (nullable = true)\n",
            " |-- location_name: string (nullable = true)\n",
            " |-- iso3: string (nullable = true)\n",
            " |-- level: string (nullable = true)\n",
            " |-- year: string (nullable = true)\n",
            " |-- gdp_ppp_mean: string (nullable = true)\n",
            " |-- gdp_ppp_lower: string (nullable = true)\n",
            " |-- gdp_ppp_upper: string (nullable = true)\n",
            " |-- gdp_usd_mean: string (nullable = true)\n",
            " |-- gdp_usd_lower: string (nullable = true)\n",
            " |-- gdp_usd_upper: string (nullable = true)\n",
            "\n"
          ]
        }
      ]
    },
    {
      "cell_type": "code",
      "metadata": {
        "colab": {
          "base_uri": "https://localhost:8080/"
        },
        "id": "AGdqm6QJCNLd",
        "outputId": "0e0fcb6e-a473-4683-aef0-aec45678ed60"
      },
      "source": [
        "from pyspark.sql.types import *\n",
        "data_schema = [ \n",
        "    StructField('location_id', IntegerType(), True),\n",
        "    StructField('location_name', StringType(), True),\n",
        "    StructField('iso3', StringType(), True),\n",
        "    StructField('level', StringType(), True),\n",
        "    StructField('year', IntegerType(), True),\n",
        "    StructField('gdp_ppp_mean', FloatType(), True),\n",
        "    StructField('gdp_ppp_lower', FloatType(), True),\n",
        "    StructField('gdp_ppp_upper', FloatType(), True),\n",
        "    StructField('gdp_usd_mean', FloatType(), True),\n",
        "    StructField('gdp_usd_lower', FloatType(), True),\n",
        "    StructField('gdp_usd_upper', FloatType(), True),\n",
        "    ]\n",
        "\n",
        "final_struc = StructType(fields = data_schema)\n",
        "\n",
        "data2 = spark.read.csv(csv_file, header=True, schema=final_struc)\n",
        "data2.printSchema()"
      ],
      "execution_count": 10,
      "outputs": [
        {
          "output_type": "stream",
          "name": "stdout",
          "text": [
            "root\n",
            " |-- location_id: integer (nullable = true)\n",
            " |-- location_name: string (nullable = true)\n",
            " |-- iso3: string (nullable = true)\n",
            " |-- level: string (nullable = true)\n",
            " |-- year: integer (nullable = true)\n",
            " |-- gdp_ppp_mean: float (nullable = true)\n",
            " |-- gdp_ppp_lower: float (nullable = true)\n",
            " |-- gdp_ppp_upper: float (nullable = true)\n",
            " |-- gdp_usd_mean: float (nullable = true)\n",
            " |-- gdp_usd_lower: float (nullable = true)\n",
            " |-- gdp_usd_upper: float (nullable = true)\n",
            "\n"
          ]
        }
      ]
    },
    {
      "cell_type": "code",
      "metadata": {
        "colab": {
          "base_uri": "https://localhost:8080/"
        },
        "id": "1F5_Bdz0HXaW",
        "outputId": "567661e0-0843-4ca5-fe09-55ab1d24d328"
      },
      "source": [
        "data.dtypes"
      ],
      "execution_count": 11,
      "outputs": [
        {
          "output_type": "execute_result",
          "data": {
            "text/plain": [
              "[('location_id', 'string'),\n",
              " ('location_name', 'string'),\n",
              " ('iso3', 'string'),\n",
              " ('level', 'string'),\n",
              " ('year', 'string'),\n",
              " ('gdp_ppp_mean', 'string'),\n",
              " ('gdp_ppp_lower', 'string'),\n",
              " ('gdp_ppp_upper', 'string'),\n",
              " ('gdp_usd_mean', 'string'),\n",
              " ('gdp_usd_lower', 'string'),\n",
              " ('gdp_usd_upper', 'string')]"
            ]
          },
          "metadata": {},
          "execution_count": 11
        }
      ]
    },
    {
      "cell_type": "code",
      "metadata": {
        "colab": {
          "base_uri": "https://localhost:8080/"
        },
        "id": "U4vwN6ovH1mW",
        "outputId": "8d3081c8-de3b-43d3-8cd5-d1bd6dcfd9bc"
      },
      "source": [
        "data2.head(2)\n"
      ],
      "execution_count": 99,
      "outputs": [
        {
          "output_type": "execute_result",
          "data": {
            "text/plain": [
              "[Row(location_id=1, location_name='Global', iso3='G', level='Global', year=1960, gdp_ppp_mean=17483449761792.0, gdp_ppp_lower=16019145883648.0, gdp_ppp_upper=19115863441408.0, gdp_usd_mean=12968625438720.0, gdp_usd_lower=12668903620608.0, gdp_usd_upper=13341765402624.0),\n",
              " Row(location_id=1, location_name='Global', iso3='G', level='Global', year=1961, gdp_ppp_mean=18135371481088.0, gdp_ppp_lower=16595371950080.0, gdp_ppp_upper=19824927309824.0, gdp_usd_mean=13460972765184.0, gdp_usd_lower=13147665596416.0, gdp_usd_upper=13830214123520.0)]"
            ]
          },
          "metadata": {},
          "execution_count": 99
        }
      ]
    },
    {
      "cell_type": "code",
      "metadata": {
        "colab": {
          "base_uri": "https://localhost:8080/"
        },
        "id": "QSV13JCYIItA",
        "outputId": "331ac984-0ce4-4035-a606-99bef37845d7"
      },
      "source": [
        "data2.tail(2)"
      ],
      "execution_count": 12,
      "outputs": [
        {
          "output_type": "execute_result",
          "data": {
            "text/plain": [
              "[Row(location_id=44578, location_name='Low income', iso3=None, level='World Bank Income Group', year=2049, gdp_ppp_mean=3941855657984.0, gdp_ppp_lower=3398883606528.0, gdp_ppp_upper=4560961142784.0, gdp_usd_mean=1262128726016.0, gdp_usd_lower=1122894872576.0, gdp_usd_upper=1413991235584.0),\n",
              " Row(location_id=44578, location_name='Low income', iso3=None, level='World Bank Income Group', year=2050, gdp_ppp_mean=4053882634240.0, gdp_ppp_lower=3482933002240.0, gdp_ppp_upper=4713596059648.0, gdp_usd_mean=1300764164096.0, gdp_usd_lower=1151548260352.0, gdp_usd_upper=1457362042880.0)]"
            ]
          },
          "metadata": {},
          "execution_count": 12
        }
      ]
    },
    {
      "cell_type": "code",
      "metadata": {
        "id": "2GQSbMCJIgWL"
      },
      "source": [
        "res = data2.withColumn('Nowa kolumna', data2.year*0 + 1000)"
      ],
      "execution_count": 13,
      "outputs": []
    },
    {
      "cell_type": "code",
      "metadata": {
        "id": "qnNPB6brJLgo"
      },
      "source": [
        "res = res.withColumnRenamed ('Nowa kolumna', 'col')"
      ],
      "execution_count": 14,
      "outputs": []
    },
    {
      "cell_type": "code",
      "metadata": {
        "id": "u2bcNHWcJSxc"
      },
      "source": [
        "res = data2.drop ('col')"
      ],
      "execution_count": 15,
      "outputs": []
    },
    {
      "cell_type": "code",
      "metadata": {
        "colab": {
          "base_uri": "https://localhost:8080/"
        },
        "id": "QycTAZlPJ1zm",
        "outputId": "7c003a6e-b2c9-4dc7-c6d2-031e2fe51532"
      },
      "source": [
        "from pyspark.sql.functions import udf\n",
        "\n",
        "\n",
        "i = -1\n",
        "def incr ():\n",
        "    global i\n",
        "    i = i+1\n",
        "    return i\n",
        "\n",
        "newCol = udf(incr , IntegerType ())\n",
        "\n",
        "# dodanie nowej kolumny\n",
        "data3 = data2.withColumn ('id', newCol ())\n",
        "\n",
        "data3.show (5)"
      ],
      "execution_count": 16,
      "outputs": [
        {
          "output_type": "stream",
          "name": "stdout",
          "text": [
            "+-----------+-------------+----+------+----+-------------+-------------+-------------+-------------+-------------+-------------+---+\n",
            "|location_id|location_name|iso3| level|year| gdp_ppp_mean|gdp_ppp_lower|gdp_ppp_upper| gdp_usd_mean|gdp_usd_lower|gdp_usd_upper| id|\n",
            "+-----------+-------------+----+------+----+-------------+-------------+-------------+-------------+-------------+-------------+---+\n",
            "|          1|       Global|   G|Global|1960|1.74834498E13|1.60191459E13|1.91158634E13|1.29686254E13|1.26689036E13|1.33417654E13|  0|\n",
            "|          1|       Global|   G|Global|1961|1.81353715E13| 1.6595372E13|1.98249273E13|1.34609728E13|1.31476656E13|1.38302141E13|  1|\n",
            "|          1|       Global|   G|Global|1962|1.89532796E13|1.73903918E13|2.06147714E13|1.40657578E13| 1.3760596E13|1.44374581E13|  2|\n",
            "|          1|       Global|   G|Global|1963|1.96566204E13|1.81170571E13|2.13499343E13|1.46183113E13| 1.4321321E13|1.49769274E13|  3|\n",
            "|          1|       Global|   G|Global|1964|2.10057476E13|1.93566417E13| 2.2767911E13|1.55298625E13| 1.5234982E13|1.58799799E13|  4|\n",
            "+-----------+-------------+----+------+----+-------------+-------------+-------------+-------------+-------------+-------------+---+\n",
            "only showing top 5 rows\n",
            "\n"
          ]
        }
      ]
    },
    {
      "cell_type": "code",
      "metadata": {
        "colab": {
          "base_uri": "https://localhost:8080/"
        },
        "id": "CeurDVIfKyBY",
        "outputId": "7d6a5c16-a894-440c-8021-d1bd1c9d1aaf"
      },
      "source": [
        "# poczatkowa liczba rekordow\n",
        "data3.count()"
      ],
      "execution_count": 17,
      "outputs": [
        {
          "output_type": "execute_result",
          "data": {
            "text/plain": [
              "19838"
            ]
          },
          "metadata": {},
          "execution_count": 17
        }
      ]
    },
    {
      "cell_type": "code",
      "metadata": {
        "id": "roKMahQrLKjW"
      },
      "source": [
        "\n",
        "# usuniecie wierszy bez danych ( sposob 1.)\n",
        "data4 = data3.na.drop()"
      ],
      "execution_count": 18,
      "outputs": []
    },
    {
      "cell_type": "code",
      "metadata": {
        "colab": {
          "base_uri": "https://localhost:8080/"
        },
        "id": "HQqU5pb9LUiA",
        "outputId": "4760abf5-c486-491f-8a2e-5b4be59b069d"
      },
      "source": [
        "data4.count()"
      ],
      "execution_count": 19,
      "outputs": [
        {
          "output_type": "execute_result",
          "data": {
            "text/plain": [
              "18655"
            ]
          },
          "metadata": {},
          "execution_count": 19
        }
      ]
    },
    {
      "cell_type": "code",
      "metadata": {
        "colab": {
          "base_uri": "https://localhost:8080/"
        },
        "id": "0wUhkoI8Lge4",
        "outputId": "b4bbde3b-70d2-4885-c57f-fa97ba870870"
      },
      "source": [
        "# wstawienie zera w miejsce braku danych ( sposob 2.)\n",
        "data5 = data3.na.fill(data3.select(0 * data3.year).collect()[0][0])\n",
        "\n",
        "data5.count()"
      ],
      "execution_count": 20,
      "outputs": [
        {
          "output_type": "execute_result",
          "data": {
            "text/plain": [
              "19838"
            ]
          },
          "metadata": {},
          "execution_count": 20
        }
      ]
    },
    {
      "cell_type": "code",
      "metadata": {
        "colab": {
          "base_uri": "https://localhost:8080/"
        },
        "id": "ws6ram4oL8BV",
        "outputId": "83700e62-f2e0-403e-d97c-4fb93767a349"
      },
      "source": [
        "data5.select(['year', 'location_id', 'location_name']).show(5)"
      ],
      "execution_count": 21,
      "outputs": [
        {
          "output_type": "stream",
          "name": "stdout",
          "text": [
            "+----+-----------+-------------+\n",
            "|year|location_id|location_name|\n",
            "+----+-----------+-------------+\n",
            "|1960|          1|       Global|\n",
            "|1961|          1|       Global|\n",
            "|1962|          1|       Global|\n",
            "|1963|          1|       Global|\n",
            "|1964|          1|       Global|\n",
            "+----+-----------+-------------+\n",
            "only showing top 5 rows\n",
            "\n"
          ]
        }
      ]
    },
    {
      "cell_type": "code",
      "metadata": {
        "colab": {
          "base_uri": "https://localhost:8080/"
        },
        "id": "YESVbBabNMry",
        "outputId": "c86a1259-16b6-4d4d-fcb1-4836d5031352"
      },
      "source": [
        "from pyspark.sql.functions import col\n",
        "\n",
        "data5 .filter(( col('year') >= 2000) & (col('location_id') > 20)).select (['year',\n",
        "'location_name', 'location_id']).show (5)"
      ],
      "execution_count": 22,
      "outputs": [
        {
          "output_type": "stream",
          "name": "stdout",
          "text": [
            "+----+-------------+-----------+\n",
            "|year|location_name|location_id|\n",
            "+----+-------------+-----------+\n",
            "|2000|         Fiji|         22|\n",
            "|2001|         Fiji|         22|\n",
            "|2002|         Fiji|         22|\n",
            "|2003|         Fiji|         22|\n",
            "|2004|         Fiji|         22|\n",
            "+----+-------------+-----------+\n",
            "only showing top 5 rows\n",
            "\n"
          ]
        }
      ]
    },
    {
      "cell_type": "code",
      "metadata": {
        "colab": {
          "base_uri": "https://localhost:8080/"
        },
        "id": "M23-Hp29Ojxj",
        "outputId": "0ca19439-177f-4eb1-f91e-cdc15d9fbad0"
      },
      "source": [
        "# dodanie kolumny zawierajacej wynik sprawdzenia , \n",
        "#czy rok jest wiekszy niz 2000\n",
        "from pyspark . sql import functions as f\n",
        "\n",
        "data5.select('year', 'location_id', 'location_name'\n",
        ", f.when(data5.year > 2000, '21st century').otherwise ('20 th century')\n",
        ".alias ('century')).show (5)\n",
        "\n",
        "# dodanie kolumny zawierajacej wynik sprawdzenia , \n",
        "#czy nazwa kraju zaczyna sie od litery ’A’\n",
        "data5.select('year', 'location_id', 'location_name', \n",
        "             data5.location_name.rlike('^F').alias('Acountry')). show (5)"
      ],
      "execution_count": 23,
      "outputs": [
        {
          "output_type": "stream",
          "name": "stdout",
          "text": [
            "+----+-----------+-------------+-------------+\n",
            "|year|location_id|location_name|      century|\n",
            "+----+-----------+-------------+-------------+\n",
            "|1960|          1|       Global|20 th century|\n",
            "|1961|          1|       Global|20 th century|\n",
            "|1962|          1|       Global|20 th century|\n",
            "|1963|          1|       Global|20 th century|\n",
            "|1964|          1|       Global|20 th century|\n",
            "+----+-----------+-------------+-------------+\n",
            "only showing top 5 rows\n",
            "\n",
            "+----+-----------+-------------+--------+\n",
            "|year|location_id|location_name|Acountry|\n",
            "+----+-----------+-------------+--------+\n",
            "|1960|          1|       Global|   false|\n",
            "|1961|          1|       Global|   false|\n",
            "|1962|          1|       Global|   false|\n",
            "|1963|          1|       Global|   false|\n",
            "|1964|          1|       Global|   false|\n",
            "+----+-----------+-------------+--------+\n",
            "only showing top 5 rows\n",
            "\n"
          ]
        }
      ]
    },
    {
      "cell_type": "code",
      "metadata": {
        "colab": {
          "base_uri": "https://localhost:8080/"
        },
        "id": "nf2m5kbjUcoZ",
        "outputId": "3f347ddf-1cd6-4d18-976b-b63496b94179"
      },
      "source": [
        "# pogrupowanie danych wg kraju\n",
        "from pyspark.sql.functions import mean, count, min, max\n",
        "\n",
        "\n",
        "data5.select(['year', 'location_id', 'location_name']).groupBy('location_name')\\\n",
        "      .agg(\n",
        "          count('year').alias('number of countries'),\n",
        "          mean('location_id').alias('number'),\n",
        "          min('year').alias('min year'),\n",
        "          max('year').alias('max year')  \n",
        "      ).show(5)\n"
      ],
      "execution_count": 24,
      "outputs": [
        {
          "output_type": "stream",
          "name": "stdout",
          "text": [
            "+--------------------+-------------------+------+--------+--------+\n",
            "|       location_name|number of countries|number|min year|max year|\n",
            "+--------------------+-------------------+------+--------+--------+\n",
            "|          South Asia|                182| 158.5|    1960|    2050|\n",
            "|       Côte d'Ivoire|                 91| 205.0|    1960|    2050|\n",
            "|Micronesia (Feder...|                 91|  25.0|    1960|    2050|\n",
            "|                Chad|                 91| 204.0|    1960|    2050|\n",
            "|            Paraguay|                 91| 136.0|    1960|    2050|\n",
            "+--------------------+-------------------+------+--------+--------+\n",
            "only showing top 5 rows\n",
            "\n"
          ]
        }
      ]
    },
    {
      "cell_type": "code",
      "metadata": {
        "colab": {
          "base_uri": "https://localhost:8080/",
          "height": 516
        },
        "id": "XO1m9kbUynL0",
        "outputId": "ca061797-fb8b-4f4f-e0eb-69c6007dfc5e"
      },
      "source": [
        "from matplotlib import pyplot as plt\n",
        "\n",
        "res = data5.filter(data5.location_name.rlike('^[ABC]'))\\\n",
        ".select(['year', 'location_id', 'location_name']).groupBy('location_name')\\\n",
        "      .agg(\n",
        "          count('year').alias('number of countries'),\n",
        "          mean('location_id').alias('number'),\n",
        "          mean('year').alias('mean year'),\n",
        "          max('year').alias('max year')  \n",
        "      ).toPandas()\n",
        "\n",
        "res.plot(kind='bar', x='location_name', y='number of countries')\n",
        "plt.show()"
      ],
      "execution_count": 42,
      "outputs": [
        {
          "output_type": "display_data",
          "data": {
            "image/png": "[encoded data removed]",
            "text/plain": [
              "<Figure size 432x288 with 1 Axes>"
            ]
          },
          "metadata": {
            "needs_background": "light"
          }
        }
      ]
    },
    {
      "cell_type": "code",
      "metadata": {
        "id": "DsCF7w_f3m9P"
      },
      "source": [
        ""
      ],
      "execution_count": null,
      "outputs": []
    }
  ]
}